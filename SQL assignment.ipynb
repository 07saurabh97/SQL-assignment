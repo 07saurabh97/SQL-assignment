{
 "cells": [
  {
   "cell_type": "markdown",
   "id": "ab0e3edb-31a0-4a53-a3f2-d7d672b46e97",
   "metadata": {},
   "source": [
    "Q1 What is a database? Differentiate between SQL and NoSQL databases."
   ]
  },
  {
   "cell_type": "markdown",
   "id": "8f162552-b733-4e81-a5cd-b496fdfd897a",
   "metadata": {},
   "source": [
    "A DAtabase is a stuctured collection of data that is organized and stored in a way that allows for efficient retrieval, management and manipulation of the data. It serves as a central repository for storing and managing information, making it easier to access and analyze data for various purposes.\n",
    "\n",
    "SQL databases are relational databases that store data in tables with predefined schemas. They use structured query language (SQL) to define and manipulate the data. No SQL databases, on the other hand, are non-relational databases that allow for more flexible data models. They can store data in variouus formats, such as key-value pairs, documents, graphs, or wide-column stores."
   ]
  },
  {
   "cell_type": "markdown",
   "id": "d1640f7f-1b8e-4a6a-802c-caf5c3bd513f",
   "metadata": {},
   "source": [
    "Q2. What is DDL? Explain why CREATE, DROP, ALTER, and TRUNCATE are used with an example."
   ]
  },
  {
   "cell_type": "markdown",
   "id": "9f3bf5d2-5ba5-4db0-a848-634556ec7aae",
   "metadata": {},
   "source": [
    "DDL stands for 'Data defination language'. It is a subset of SQL used to define and modify the structure of objects in a database. DDL commands are used to create, alter, and drop database objects such as tables, indexes, views, and schemas.\n"
   ]
  },
  {
   "cell_type": "markdown",
   "id": "e07d1d21-0189-48fc-9307-154c75ebb2cd",
   "metadata": {},
   "source": [
    "1. CREATE- The CREATE command is aDDL command used to create new databases objects, such as tables, indexes, views, or schemas.\n",
    "\n",
    "CREATE TABLE Employee (\n",
    "    EmployeeId INTEGER PRIMARY KEY,\n",
    "    FirstName CHAR(50) NULL,\n",
    "    LastName CHAR(75) NOT NULL\n",
    ");\n",
    "\n",
    "2. DROP- The DROP command used to remove or delete existing databses objects from the database.\n",
    "\n",
    "DROP TABLE Employee;\n",
    "\n",
    "3. ALTER- The ALTER command is used to modify the structure of an existing database object.\n",
    "\n",
    "ALTER TABLE Employee ADD Age INTEGER;\n",
    "\n",
    "4. TRUNCATE- The TRUNCATE command is often mistakenly considered a DDL command, but it is actually a DML (Data Manipulation Language) command. However, it is worth mentioning here as it is commonly used in database operations.\n",
    "\n",
    "The TRUNCATE command is often mistakenly considered a DDL command, but it is actually a DML (Data Manipulation Language) command. However, it is worth mentioning here as it is commonly used in database operations"
   ]
  },
  {
   "cell_type": "markdown",
   "id": "2aac9268-9713-4164-9970-356aae60d447",
   "metadata": {},
   "source": [
    "Q3. What is DML? Explain INSERT, UPDATE, and DELETE with an example."
   ]
  },
  {
   "cell_type": "markdown",
   "id": "370df206-32d8-456d-b11b-e397b207b9a7",
   "metadata": {},
   "source": [
    "DML stands for 'Data manipulation Language'. It is a subset of SQL used to manipulate and modify tahe data stored in database.\n",
    "\n",
    "INSERT command is used to insert new records into a table. It allows you to add one more rows of data to a table.\n",
    "UPDATE is used to modify existing records in a table. It allows you to change the values of one or more columns in one ore more rows os a table.\n",
    "\n",
    "\n",
    "INSERT INTO Employee (EmployeeId, FirstName, LastName)\n",
    "VALUES (1, 'John', 'Doe');\n",
    "\n",
    "\n",
    "DELETE FROM Employee\n",
    "WHERE EmployeeId = 1;\n",
    "\n",
    "\n",
    "DELETE command is used to remove records from a table.\n",
    "\n",
    "DELETE FROM Employee\n",
    "WHERE EmployeeId = 1;\n"
   ]
  },
  {
   "cell_type": "markdown",
   "id": "dc5fe8a5-32b5-4ae0-ac27-32b8f02f2f66",
   "metadata": {},
   "source": [
    "Q4. What is DQL? Explain SELECT with an example."
   ]
  },
  {
   "cell_type": "markdown",
   "id": "792e4676-4100-4885-b4b8-43c9d17fad03",
   "metadata": {},
   "source": [
    "DQL stands for 'Data Query Language'. It is a subset of SQL used to retrieve and query data from a database. DQL commands are primarily focused on retrieving data and do not modify the structure of the database.\n",
    "\n",
    "SELECT command is used to retriev data from one or more tables in a database. It allows you to specify the columns you want to retrieve, apply filters, perform calculation and sort the result set."
   ]
  },
  {
   "cell_type": "markdown",
   "id": "41769504-f704-49ae-bdd1-f35d7705351e",
   "metadata": {},
   "source": [
    "Q5. Explain Primary Key and Foreign Key."
   ]
  },
  {
   "cell_type": "markdown",
   "id": "90c3003b-af51-4505-bf61-e87ac1d208ec",
   "metadata": {},
   "source": [
    "A Primary Key is a column or a set of columns in a database table that uniquely identifies each record in that table. It ensures the uniqueness and integrity of the data within the table.\n",
    "\n",
    "A Foreign Key is a column or a group of columns in a database table that establishes a link between data in two tables. It references the primary key of another table, creating a relationship between the two tables. "
   ]
  },
  {
   "cell_type": "markdown",
   "id": "9717f00a-0ecf-47f8-97df-ca47d23ed0b7",
   "metadata": {},
   "source": [
    "Q6. Write a python code to connect MySQL to python. Explain the cursor() and execute() method."
   ]
  },
  {
   "cell_type": "code",
   "execution_count": null,
   "id": "20e3a40b-a5c9-48ed-816a-d524d01f59d1",
   "metadata": {},
   "outputs": [],
   "source": [
    "import mysql.connector\n",
    "\n",
    "mydb = mysql.connector.connect(\n",
    "  host=\"localhost\",\n",
    "  user=\"yourusername\",\n",
    "  password=\"yourpassword\",\n",
    "  database=\"yourdatabase\"\n",
    ")\n",
    "\n",
    "mycursor=mydb.cursor()\n",
    "\n",
    "mucursor.execute(\"SELECT * FROM your_table\")\n",
    "\n",
    "results=mycursor.fetchall()\n",
    "\n",
    "for row in results:\n",
    "    print(row)\n",
    "    \n",
    "mydb.close()"
   ]
  },
  {
   "cell_type": "markdown",
   "id": "3a143557-b933-42cd-aba9-62954cc2f297",
   "metadata": {},
   "source": [
    "Q7. Give the order of execution of SQL clauses in an SQL query."
   ]
  },
  {
   "cell_type": "markdown",
   "id": "c79c99f2-eb3b-4b36-b928-825c3119b5c5",
   "metadata": {},
   "source": [
    "The order of execution of SQL clauses in an SQL query can vary slightly depending on the specific database management system (DBMS) being used. However, there is a general logical order that most DBMS follow. Here is the typical order of execution for SQL clauses:\n",
    "FROM/JOIN-WHERE-GROUP BY-HAVING-SELECT-DISTINCT-ORDER BY-LIMIT/OFFSET"
   ]
  },
  {
   "cell_type": "code",
   "execution_count": null,
   "id": "3c1d614a-c2b2-47b6-bca5-e042f15cf377",
   "metadata": {},
   "outputs": [],
   "source": []
  }
 ],
 "metadata": {
  "kernelspec": {
   "display_name": "Python 3 (ipykernel)",
   "language": "python",
   "name": "python3"
  },
  "language_info": {
   "codemirror_mode": {
    "name": "ipython",
    "version": 3
   },
   "file_extension": ".py",
   "mimetype": "text/x-python",
   "name": "python",
   "nbconvert_exporter": "python",
   "pygments_lexer": "ipython3",
   "version": "3.10.8"
  }
 },
 "nbformat": 4,
 "nbformat_minor": 5
}
